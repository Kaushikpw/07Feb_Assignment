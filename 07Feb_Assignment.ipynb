{
 "cells": [
  {
   "cell_type": "code",
   "execution_count": 5,
   "id": "67e0eb64-edc4-4a8f-858c-c1178dc87353",
   "metadata": {},
   "outputs": [
    {
     "name": "stdin",
     "output_type": "stream",
     "text": [
      "Enter a password:  56598692vghccgghSAE\n"
     ]
    },
    {
     "name": "stdout",
     "output_type": "stream",
     "text": [
      "Invalid Password\n"
     ]
    }
   ],
   "source": [
    "#Q1. You are writing code for a company. The requirement of the company is that you create a python\n",
    "#function that will check whether the password entered by the user is correct or not. The function should\n",
    "#take the password as input and return the string “Valid Password” if the entered password follows the\n",
    "#below-given password guidelines else it should return “Invalid Password”.\n",
    "\n",
    "#Note: 1. The Password should contain at least two uppercase letters and at least two lowercase letters.\n",
    "#2. The Password should contain at least a number and three special characters.\n",
    "#3. The length of the password should be 10 characters long.\n",
    "\n",
    "#Ans.: \n",
    "\n",
    "def validate_password(password):\n",
    "    # Check length\n",
    "    if len(password) != 10:\n",
    "        return \"Invalid Password\"\n",
    "\n",
    "    # Initialize counters for uppercase, lowercase, digits, and special characters\n",
    "    upper_count = 0\n",
    "    lower_count = 0\n",
    "    digit_count = 0\n",
    "    special_count = 0\n",
    "\n",
    "    # Iterate through each character in the password\n",
    "    for char in password:\n",
    "        if char.isupper():\n",
    "            upper_count += 1\n",
    "        elif char.islower():\n",
    "            lower_count += 1\n",
    "        elif char.isdigit():\n",
    "            digit_count += 1\n",
    "        elif char in \"!@#$%^&*()_+{}[]|;:,.<>?\":\n",
    "            special_count += 1\n",
    "\n",
    "    # Check if all conditions are met\n",
    "    if upper_count >= 2 and lower_count >= 2 and digit_count >= 1 and special_count >= 3:\n",
    "        return \"Valid Password\"\n",
    "    else:\n",
    "        return \"Invalid Password\"\n",
    "\n",
    "# Example usage:\n",
    "user_input = input(\"Enter a password: \")\n",
    "result = validate_password(user_input)\n",
    "print(result)"
   ]
  },
  {
   "cell_type": "code",
   "execution_count": 6,
   "id": "733b8caf-f95a-43d3-94a6-e43c546eaee0",
   "metadata": {},
   "outputs": [],
   "source": [
    "#Q2. Solve the below-given questions using at least one of the following:\n",
    "#1. Lambda function\n",
    "#2. Filter function\n",
    "#3. Map function\n",
    "#4. List Comprehension\n",
    "#• Check if the string starts with a particular letter\n",
    "#• Check if the string is numeric\n",
    "#• Sort a list of tuples having fruit names and their quantity. [(\"mango\",99),(\"orange\",80), (\"grapes\", 1000)-\n",
    "#• Find the squares of numbers from 1 to 10\n",
    "#• Find the cube root of numbers from 1 to 10\n",
    "#• Check if a given number is even\n",
    "#• Filter odd numbers from the given list.\n",
    "#[1,2,3,4,5,6,7,8,9,10-\n",
    "#• Sort a list of integers into positive and negative integers lists.\n",
    "#[1,2,3,4,5,6,-1,-2,-3,-4,-5,0]\n",
    "\n",
    "#Ans.:\n",
    "\n",
    "# Check if the string starts with a particular letter\n",
    "starts_with = lambda s, letter: s.startswith(letter)\n",
    "\n",
    "# Check if the string is numeric\n",
    "is_numeric = lambda s: s.isnumeric()\n",
    "\n",
    "# Sort a list of tuples having fruit names and their quantity\n",
    "fruits = [(\"mango\",99),(\"orange\",80), (\"grapes\", 1000)]\n",
    "sorted_fruits = sorted(fruits, key=lambda x: x[1])\n",
    "\n",
    "# Find the squares of numbers from 1 to 10\n",
    "squares = list(map(lambda x: x**2, range(1, 11)))\n",
    "\n",
    "# Find the cube root of numbers from 1 to 10\n",
    "cube_roots = [round(x**(1/3), 2) for x in range(1, 11)]\n",
    "\n",
    "# Check if a given number is even\n",
    "is_even = lambda x: x % 2 == 0\n",
    "\n",
    "# Filter odd numbers from the given list\n",
    "numbers = [1,2,3,4,5,6,7,8,9,10]\n",
    "odd_numbers = list(filter(lambda x: x % 2 != 0, numbers))\n",
    "\n",
    "# Sort a list of integers into positive and negative integers lists\n",
    "numbers = [1,2,3,4,5,6,-1,-2,-3,-4,-5,0]\n",
    "positive_numbers = [x for x in numbers if x >= 0]\n",
    "negative_numbers = [x for x in numbers if x < 0]"
   ]
  },
  {
   "cell_type": "code",
   "execution_count": null,
   "id": "45a0a706-df05-496a-a8ab-3b49a3d8cf75",
   "metadata": {},
   "outputs": [],
   "source": []
  }
 ],
 "metadata": {
  "kernelspec": {
   "display_name": "Python 3 (ipykernel)",
   "language": "python",
   "name": "python3"
  },
  "language_info": {
   "codemirror_mode": {
    "name": "ipython",
    "version": 3
   },
   "file_extension": ".py",
   "mimetype": "text/x-python",
   "name": "python",
   "nbconvert_exporter": "python",
   "pygments_lexer": "ipython3",
   "version": "3.10.8"
  }
 },
 "nbformat": 4,
 "nbformat_minor": 5
}
